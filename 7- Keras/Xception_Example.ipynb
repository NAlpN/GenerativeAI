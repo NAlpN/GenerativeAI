{
 "cells": [
  {
   "cell_type": "code",
   "execution_count": 1,
   "id": "f8c44589",
   "metadata": {},
   "outputs": [],
   "source": [
    "from keras.applications import Xception\n",
    "from keras.preprocessing import image\n",
    "from keras.applications.xception import preprocess_input, decode_predictions\n",
    "import numpy as np"
   ]
  },
  {
   "cell_type": "code",
   "execution_count": 2,
   "id": "242ab59c",
   "metadata": {},
   "outputs": [
    {
     "name": "stdout",
     "output_type": "stream",
     "text": [
      "Downloading data from https://storage.googleapis.com/tensorflow/keras-applications/xception/xception_weights_tf_dim_ordering_tf_kernels.h5\n",
      "\u001b[1m91884032/91884032\u001b[0m \u001b[32m━━━━━━━━━━━━━━━━━━━━\u001b[0m\u001b[37m\u001b[0m \u001b[1m29s\u001b[0m 0us/step\n"
     ]
    }
   ],
   "source": [
    "model = Xception(weights = 'imagenet')"
   ]
  },
  {
   "cell_type": "code",
   "execution_count": 4,
   "id": "b03399a1",
   "metadata": {},
   "outputs": [],
   "source": [
    "img = image.load_img('images/n0/n0018.jpg', target_size = (299, 299))\n",
    "\n",
    "x = image.img_to_array(img)\n",
    "x = np.expand_dims(x, axis = 0)\n",
    "x = preprocess_input(x)"
   ]
  },
  {
   "cell_type": "code",
   "execution_count": 5,
   "id": "11c8ec24",
   "metadata": {},
   "outputs": [
    {
     "name": "stdout",
     "output_type": "stream",
     "text": [
      "\u001b[1m1/1\u001b[0m \u001b[32m━━━━━━━━━━━━━━━━━━━━\u001b[0m\u001b[37m\u001b[0m \u001b[1m1s\u001b[0m 1s/step\n"
     ]
    }
   ],
   "source": [
    "pred = model.predict(x)"
   ]
  },
  {
   "cell_type": "code",
   "execution_count": 7,
   "id": "76bb6095",
   "metadata": {},
   "outputs": [
    {
     "data": {
      "text/plain": [
       "[('n02492660', 'howler_monkey', 0.94408566),\n",
       " ('n02493509', 'titi', 0.014543152),\n",
       " ('n02493793', 'spider_monkey', 0.0057394323)]"
      ]
     },
     "execution_count": 7,
     "metadata": {},
     "output_type": "execute_result"
    }
   ],
   "source": [
    "decode_predictions(pred, top=3)[0]"
   ]
  },
  {
   "cell_type": "code",
   "execution_count": 8,
   "id": "28fda682",
   "metadata": {},
   "outputs": [
    {
     "name": "stdout",
     "output_type": "stream",
     "text": [
      "Downloading data from https://storage.googleapis.com/tensorflow/keras-applications/xception/xception_weights_tf_dim_ordering_tf_kernels_notop.h5\n",
      "\u001b[1m83683744/83683744\u001b[0m \u001b[32m━━━━━━━━━━━━━━━━━━━━\u001b[0m\u001b[37m\u001b[0m \u001b[1m43s\u001b[0m 1us/step\n"
     ]
    }
   ],
   "source": [
    "from keras.models import Model\n",
    "\n",
    "base_model = Xception(weights='imagenet', include_top = False)"
   ]
  },
  {
   "cell_type": "code",
   "execution_count": 9,
   "id": "e56b49ff",
   "metadata": {},
   "outputs": [],
   "source": [
    "model = Model(inputs = base_model.input, outputs = base_model.output)"
   ]
  },
  {
   "cell_type": "code",
   "execution_count": 10,
   "id": "92a8b150",
   "metadata": {},
   "outputs": [
    {
     "name": "stdout",
     "output_type": "stream",
     "text": [
      "\u001b[1m1/1\u001b[0m \u001b[32m━━━━━━━━━━━━━━━━━━━━\u001b[0m\u001b[37m\u001b[0m \u001b[1m1s\u001b[0m 1s/step\n"
     ]
    }
   ],
   "source": [
    "features = model.predict(x)"
   ]
  },
  {
   "cell_type": "code",
   "execution_count": 11,
   "id": "eb5d0de7",
   "metadata": {},
   "outputs": [
    {
     "data": {
      "text/plain": [
       "(1, 10, 10, 2048)"
      ]
     },
     "execution_count": 11,
     "metadata": {},
     "output_type": "execute_result"
    }
   ],
   "source": [
    "features.shape"
   ]
  },
  {
   "cell_type": "code",
   "execution_count": 12,
   "id": "8bc84199",
   "metadata": {},
   "outputs": [],
   "source": [
    "encoder_output = base_model.output"
   ]
  },
  {
   "cell_type": "code",
   "execution_count": 13,
   "id": "c871d288",
   "metadata": {},
   "outputs": [],
   "source": [
    "from keras.layers import Conv2D, UpSampling2D\n",
    "\n",
    "decoder_output = Conv2D(1, (1, 1), activation='sigmoid')(encoder_output)\n",
    "decoder_output = UpSampling2D(size=(32, 32))(decoder_output)"
   ]
  },
  {
   "cell_type": "code",
   "execution_count": 14,
   "id": "1b9924d7",
   "metadata": {},
   "outputs": [],
   "source": [
    "model = Model(inputs=base_model.input, outputs=decoder_output)"
   ]
  },
  {
   "cell_type": "code",
   "execution_count": 15,
   "id": "f7f2e22a",
   "metadata": {},
   "outputs": [],
   "source": [
    "model.compile(optimizer = 'adam', loss = 'binary_crossentropy')"
   ]
  },
  {
   "cell_type": "code",
   "execution_count": 16,
   "id": "43714624",
   "metadata": {},
   "outputs": [
    {
     "name": "stdout",
     "output_type": "stream",
     "text": [
      "\u001b[1m1/1\u001b[0m \u001b[32m━━━━━━━━━━━━━━━━━━━━\u001b[0m\u001b[37m\u001b[0m \u001b[1m1s\u001b[0m 1s/step\n"
     ]
    }
   ],
   "source": [
    "segmentation_result = model.predict(x)"
   ]
  },
  {
   "cell_type": "code",
   "execution_count": 18,
   "id": "1ea4dad8",
   "metadata": {},
   "outputs": [],
   "source": [
    "segmentation_result = np.random.rand(1, 10, 10, 1)"
   ]
  },
  {
   "cell_type": "code",
   "execution_count": 19,
   "id": "471fa591",
   "metadata": {},
   "outputs": [],
   "source": [
    "thresholded_result = (segmentation_result > 0.5).astype(np.uint8)"
   ]
  },
  {
   "cell_type": "code",
   "execution_count": 21,
   "id": "85d6c365",
   "metadata": {},
   "outputs": [
    {
     "data": {
      "image/png": "[encoded data removed]",
      "text/plain": [
       "<Figure size 1000x500 with 2 Axes>"
      ]
     },
     "metadata": {},
     "output_type": "display_data"
    }
   ],
   "source": [
    "import matplotlib.pyplot as plt\n",
    "\n",
    "plt.figure(figsize=(10, 5))\n",
    "\n",
    "plt.subplot(1, 2, 1)\n",
    "plt.imshow(segmentation_result[0, :, :, 0], cmap='gray')\n",
    "plt.title('Segmentation Result')\n",
    "\n",
    "plt.subplot(1, 2, 2)\n",
    "plt.imshow(thresholded_result[0, :, :, 0], cmap='gray')\n",
    "plt.title('Thresholded Segmentation Result')\n",
    "\n",
    "plt.show()"
   ]
  }
 ],
 "metadata": {
  "kernelspec": {
   "display_name": "Python 3 (ipykernel)",
   "language": "python",
   "name": "python3"
  },
  "language_info": {
   "codemirror_mode": {
    "name": "ipython",
    "version": 3
   },
   "file_extension": ".py",
   "mimetype": "text/x-python",
   "name": "python",
   "nbconvert_exporter": "python",
   "pygments_lexer": "ipython3",
   "version": "3.11.5"
  }
 },
 "nbformat": 4,
 "nbformat_minor": 5
}
