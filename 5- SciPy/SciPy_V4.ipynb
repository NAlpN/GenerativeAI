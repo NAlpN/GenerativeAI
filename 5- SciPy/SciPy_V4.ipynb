{
 "cells": [
  {
   "cell_type": "code",
   "execution_count": 1,
   "id": "a21a9fd5",
   "metadata": {},
   "outputs": [],
   "source": [
    "from scipy.spatial.distance import euclidean"
   ]
  },
  {
   "cell_type": "code",
   "execution_count": 2,
   "id": "f9fc9ae8",
   "metadata": {},
   "outputs": [],
   "source": [
    "x1 = 5\n",
    "y1 = 15"
   ]
  },
  {
   "cell_type": "code",
   "execution_count": 3,
   "id": "3181df42",
   "metadata": {},
   "outputs": [],
   "source": [
    "x2 = 7\n",
    "y2 = 20"
   ]
  },
  {
   "cell_type": "code",
   "execution_count": 4,
   "id": "b4a7bff7",
   "metadata": {},
   "outputs": [],
   "source": [
    "mesafe = euclidean([x1, y1], [x2, y2])"
   ]
  },
  {
   "cell_type": "code",
   "execution_count": 5,
   "id": "f3f5f43a",
   "metadata": {},
   "outputs": [
    {
     "name": "stdout",
     "output_type": "stream",
     "text": [
      "İki nokta arasındaki mesafe: 5.385164807134504\n"
     ]
    }
   ],
   "source": [
    "print(\"İki nokta arasındaki mesafe:\", mesafe)"
   ]
  }
 ],
 "metadata": {
  "kernelspec": {
   "display_name": "Python 3 (ipykernel)",
   "language": "python",
   "name": "python3"
  },
  "language_info": {
   "codemirror_mode": {
    "name": "ipython",
    "version": 3
   },
   "file_extension": ".py",
   "mimetype": "text/x-python",
   "name": "python",
   "nbconvert_exporter": "python",
   "pygments_lexer": "ipython3",
   "version": "3.11.5"
  }
 },
 "nbformat": 4,
 "nbformat_minor": 5
}
