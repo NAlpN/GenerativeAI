{
 "cells": [
  {
   "cell_type": "code",
   "execution_count": 1,
   "id": "4964d7ef",
   "metadata": {},
   "outputs": [],
   "source": [
    "import numpy as np\n",
    "from scipy.optimize import linprog"
   ]
  },
  {
   "cell_type": "code",
   "execution_count": 2,
   "id": "fb548846",
   "metadata": {},
   "outputs": [],
   "source": [
    "ort_gelir = np.array([0.1, 0.2, 0.15])"
   ]
  },
  {
   "cell_type": "code",
   "execution_count": 4,
   "id": "823a85b5",
   "metadata": {},
   "outputs": [],
   "source": [
    "kovaryans_matrix = np.array([[0.1, 0.03, 0.05],\n",
    "                       [0.03, 0.12, 0.07],\n",
    "                       [0.05, 0.07, 0.2]])"
   ]
  },
  {
   "cell_type": "code",
   "execution_count": 6,
   "id": "e5ef6250",
   "metadata": {},
   "outputs": [],
   "source": [
    "num_assets = len(ort_gelir)\n",
    "bounds = [(0, 1) for _ in range(num_assets)]\n",
    "constraints = {'type': 'eq', 'fun': lambda weights: np.sum(weights) - 1}\n",
    "target_return = 0.12"
   ]
  },
  {
   "cell_type": "code",
   "execution_count": 7,
   "id": "9a0796ed",
   "metadata": {},
   "outputs": [],
   "source": [
    "res = linprog(-ort_gelir, A_eq=np.ones((1, num_assets)), b_eq=np.array([1]),\n",
    "              bounds=bounds, method='highs')"
   ]
  },
  {
   "cell_type": "code",
   "execution_count": 8,
   "id": "36aff8df",
   "metadata": {},
   "outputs": [],
   "source": [
    "optimal_weights = res.x\n",
    "optimal_return = -res.fun"
   ]
  },
  {
   "cell_type": "code",
   "execution_count": 9,
   "id": "014d94c5",
   "metadata": {},
   "outputs": [
    {
     "name": "stdout",
     "output_type": "stream",
     "text": [
      "En iyi portföy getirisi: 0.2\n",
      "En iyi portföy dağılımı:\n",
      "Varlık 1: 0.00%\n",
      "Varlık 2: 100.00%\n",
      "Varlık 3: 0.00%\n"
     ]
    }
   ],
   "source": [
    "print(\"En iyi portföy getirisi:\", optimal_return)\n",
    "print(\"En iyi portföy dağılımı:\")\n",
    "for i in range(num_assets):\n",
    "    print(\"Varlık {}: {:.2f}%\".format(i+1, optimal_weights[i] * 100))"
   ]
  },
  {
   "cell_type": "code",
   "execution_count": null,
   "id": "7493fb76",
   "metadata": {},
   "outputs": [],
   "source": []
  }
 ],
 "metadata": {
  "kernelspec": {
   "display_name": "Python 3 (ipykernel)",
   "language": "python",
   "name": "python3"
  },
  "language_info": {
   "codemirror_mode": {
    "name": "ipython",
    "version": 3
   },
   "file_extension": ".py",
   "mimetype": "text/x-python",
   "name": "python",
   "nbconvert_exporter": "python",
   "pygments_lexer": "ipython3",
   "version": "3.11.5"
  }
 },
 "nbformat": 4,
 "nbformat_minor": 5
}
