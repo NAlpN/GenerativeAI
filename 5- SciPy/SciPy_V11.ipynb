{
 "cells": [
  {
   "cell_type": "code",
   "execution_count": 1,
   "id": "92446213",
   "metadata": {},
   "outputs": [],
   "source": [
    "import numpy as np\n",
    "from scipy import integrate"
   ]
  },
  {
   "cell_type": "code",
   "execution_count": 5,
   "id": "a12fbe05",
   "metadata": {},
   "outputs": [],
   "source": [
    "def f(x):\n",
    "    return np.sin(x)"
   ]
  },
  {
   "cell_type": "code",
   "execution_count": 6,
   "id": "42ac56e8",
   "metadata": {},
   "outputs": [],
   "source": [
    "a = 0  # Alt sınır\n",
    "b = np.pi  # Üst sınır"
   ]
  },
  {
   "cell_type": "code",
   "execution_count": 7,
   "id": "58768f45",
   "metadata": {},
   "outputs": [],
   "source": [
    "integral, error = integrate.quad(f, a, b)"
   ]
  },
  {
   "cell_type": "code",
   "execution_count": 8,
   "id": "5c2ed86e",
   "metadata": {},
   "outputs": [
    {
     "name": "stdout",
     "output_type": "stream",
     "text": [
      "Sonuç: 2.0\n",
      "Hata: 2.220446049250313e-14\n"
     ]
    }
   ],
   "source": [
    "print(\"Sonuç:\", integral)\n",
    "print(\"Hata:\", error)"
   ]
  },
  {
   "cell_type": "code",
   "execution_count": null,
   "id": "cbebf5df",
   "metadata": {},
   "outputs": [],
   "source": []
  }
 ],
 "metadata": {
  "kernelspec": {
   "display_name": "Python 3 (ipykernel)",
   "language": "python",
   "name": "python3"
  },
  "language_info": {
   "codemirror_mode": {
    "name": "ipython",
    "version": 3
   },
   "file_extension": ".py",
   "mimetype": "text/x-python",
   "name": "python",
   "nbconvert_exporter": "python",
   "pygments_lexer": "ipython3",
   "version": "3.11.5"
  }
 },
 "nbformat": 4,
 "nbformat_minor": 5
}
