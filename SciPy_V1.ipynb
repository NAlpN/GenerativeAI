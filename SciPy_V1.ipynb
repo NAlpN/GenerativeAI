{
 "cells": [
  {
   "cell_type": "code",
   "execution_count": 1,
   "id": "1a2e6705",
   "metadata": {},
   "outputs": [],
   "source": [
    "from scipy.optimize import minimize"
   ]
  },
  {
   "cell_type": "code",
   "execution_count": 15,
   "id": "5a513e1a",
   "metadata": {},
   "outputs": [],
   "source": [
    "def fonk(x1):\n",
    "    return (x-2) ** 2+3"
   ]
  },
  {
   "cell_type": "code",
   "execution_count": 16,
   "id": "ca312b85",
   "metadata": {},
   "outputs": [],
   "source": [
    "x1 = 0"
   ]
  },
  {
   "cell_type": "code",
   "execution_count": 17,
   "id": "42e749f8",
   "metadata": {},
   "outputs": [],
   "source": [
    "sonuc = minimize(fonk, x)"
   ]
  },
  {
   "cell_type": "code",
   "execution_count": 18,
   "id": "c9898d1d",
   "metadata": {},
   "outputs": [
    {
     "name": "stdout",
     "output_type": "stream",
     "text": [
      "Minimum:  7\n"
     ]
    }
   ],
   "source": [
    "print(\"Minimum: \", sonuc.fun)"
   ]
  },
  {
   "cell_type": "code",
   "execution_count": 20,
   "id": "5e298567",
   "metadata": {},
   "outputs": [
    {
     "name": "stdout",
     "output_type": "stream",
     "text": [
      "Minimum Noktası [0.]\n"
     ]
    }
   ],
   "source": [
    "print(\"Minimum Noktası\", sonuc.x)"
   ]
  }
 ],
 "metadata": {
  "kernelspec": {
   "display_name": "Python 3 (ipykernel)",
   "language": "python",
   "name": "python3"
  },
  "language_info": {
   "codemirror_mode": {
    "name": "ipython",
    "version": 3
   },
   "file_extension": ".py",
   "mimetype": "text/x-python",
   "name": "python",
   "nbconvert_exporter": "python",
   "pygments_lexer": "ipython3",
   "version": "3.11.5"
  }
 },
 "nbformat": 4,
 "nbformat_minor": 5
}
